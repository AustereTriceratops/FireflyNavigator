{
 "cells": [
  {
   "cell_type": "code",
   "execution_count": 1,
   "metadata": {},
   "outputs": [],
   "source": [
    "import numpy as np\n",
    "import pandas as pd\n",
    "import matplotlib.pyplot as plt\n",
    "import seaborn as sns\n",
    "\n",
    "sns.set()"
   ]
  },
  {
   "cell_type": "code",
   "execution_count": 3,
   "metadata": {},
   "outputs": [
    {
     "data": {
      "text/html": [
       "<div>\n",
       "<style scoped>\n",
       "    .dataframe tbody tr th:only-of-type {\n",
       "        vertical-align: middle;\n",
       "    }\n",
       "\n",
       "    .dataframe tbody tr th {\n",
       "        vertical-align: top;\n",
       "    }\n",
       "\n",
       "    .dataframe thead th {\n",
       "        text-align: right;\n",
       "    }\n",
       "</style>\n",
       "<table border=\"1\" class=\"dataframe\">\n",
       "  <thead>\n",
       "    <tr style=\"text-align: right;\">\n",
       "      <th></th>\n",
       "      <th>x</th>\n",
       "      <th>y</th>\n",
       "      <th>z</th>\n",
       "      <th>time</th>\n",
       "    </tr>\n",
       "  </thead>\n",
       "  <tbody>\n",
       "    <tr>\n",
       "      <th>0</th>\n",
       "      <td>-0.775469</td>\n",
       "      <td>0.010934</td>\n",
       "      <td>0.762418</td>\n",
       "      <td>19</td>\n",
       "    </tr>\n",
       "    <tr>\n",
       "      <th>1</th>\n",
       "      <td>-0.771547</td>\n",
       "      <td>0.009055</td>\n",
       "      <td>0.762991</td>\n",
       "      <td>20</td>\n",
       "    </tr>\n",
       "    <tr>\n",
       "      <th>2</th>\n",
       "      <td>-0.769092</td>\n",
       "      <td>0.008304</td>\n",
       "      <td>0.765042</td>\n",
       "      <td>21</td>\n",
       "    </tr>\n",
       "    <tr>\n",
       "      <th>3</th>\n",
       "      <td>-0.766927</td>\n",
       "      <td>0.006463</td>\n",
       "      <td>0.766104</td>\n",
       "      <td>22</td>\n",
       "    </tr>\n",
       "    <tr>\n",
       "      <th>4</th>\n",
       "      <td>-0.764569</td>\n",
       "      <td>0.005003</td>\n",
       "      <td>0.767672</td>\n",
       "      <td>23</td>\n",
       "    </tr>\n",
       "  </tbody>\n",
       "</table>\n",
       "</div>"
      ],
      "text/plain": [
       "          x         y         z  time\n",
       "0 -0.775469  0.010934  0.762418    19\n",
       "1 -0.771547  0.009055  0.762991    20\n",
       "2 -0.769092  0.008304  0.765042    21\n",
       "3 -0.766927  0.006463  0.766104    22\n",
       "4 -0.764569  0.005003  0.767672    23"
      ]
     },
     "execution_count": 3,
     "metadata": {},
     "output_type": "execute_result"
    }
   ],
   "source": [
    "data = pd.read_csv(\"xyzt_tent.csv\", names=[\"x\", \"y\", \"z\", \"time\"])\n",
    "data.head(5)"
   ]
  },
  {
   "cell_type": "code",
   "execution_count": 53,
   "metadata": {},
   "outputs": [
    {
     "data": {
      "text/plain": [
       "106755"
      ]
     },
     "execution_count": 53,
     "metadata": {},
     "output_type": "execute_result"
    }
   ],
   "source": [
    "# find last timepoint\n",
    "\n",
    "t = data['time'][len(data.index)-1]\n",
    "t"
   ]
  },
  {
   "cell_type": "code",
   "execution_count": 44,
   "metadata": {},
   "outputs": [
    {
     "data": {
      "text/plain": [
       "19        1\n",
       "20        1\n",
       "21        1\n",
       "22        1\n",
       "23        1\n",
       "         ..\n",
       "106751    1\n",
       "106752    1\n",
       "106753    1\n",
       "106754    1\n",
       "106755    1\n",
       "Name: time, Length: 13243, dtype: int64"
      ]
     },
     "execution_count": 44,
     "metadata": {},
     "output_type": "execute_result"
    }
   ],
   "source": [
    "#find number of flashing events per timestep\n",
    "\n",
    "activity_counts = data[\"time\"].value_counts().sort_index()\n",
    "activity_counts"
   ]
  },
  {
   "cell_type": "code",
   "execution_count": 57,
   "metadata": {},
   "outputs": [],
   "source": [
    "# pad for timesteps with no activity\n",
    "\n",
    "padded_activity_counts = [0 for _ in range(t+1)]\n",
    "\n",
    "for c in activity_counts.keys():\n",
    "    padded_activity_counts[c] = activity_counts[c]\n",
    "    \n",
    "padded_activity_counts = pd.Series(padded_activity_counts)"
   ]
  },
  {
   "cell_type": "code",
   "execution_count": 70,
   "metadata": {},
   "outputs": [
    {
     "data": {
      "image/png": "[encoded data removed]",
      "text/plain": [
       "<Figure size 432x288 with 1 Axes>"
      ]
     },
     "metadata": {},
     "output_type": "display_data"
    }
   ],
   "source": [
    "# histogram\n",
    "\n",
    "ax = sns.distplot(padded_activity_counts, kde=False, norm_hist=True)\n",
    "ax.set(xlabel=\"number of events in a given timestep\", ylabel=\"frequency\")\n",
    "\n",
    "plt.show()"
   ]
  },
  {
   "cell_type": "code",
   "execution_count": 8,
   "metadata": {},
   "outputs": [
    {
     "data": {
      "text/html": [
       "<div>\n",
       "<style scoped>\n",
       "    .dataframe tbody tr th:only-of-type {\n",
       "        vertical-align: middle;\n",
       "    }\n",
       "\n",
       "    .dataframe tbody tr th {\n",
       "        vertical-align: top;\n",
       "    }\n",
       "\n",
       "    .dataframe thead th {\n",
       "        text-align: right;\n",
       "    }\n",
       "</style>\n",
       "<table border=\"1\" class=\"dataframe\">\n",
       "  <thead>\n",
       "    <tr style=\"text-align: right;\">\n",
       "      <th></th>\n",
       "      <th>x</th>\n",
       "      <th>y</th>\n",
       "      <th>z</th>\n",
       "      <th>time</th>\n",
       "    </tr>\n",
       "  </thead>\n",
       "  <tbody>\n",
       "    <tr>\n",
       "      <th>2049</th>\n",
       "      <td>0.046333</td>\n",
       "      <td>0.563902</td>\n",
       "      <td>0.833833</td>\n",
       "      <td>6732</td>\n",
       "    </tr>\n",
       "    <tr>\n",
       "      <th>2050</th>\n",
       "      <td>-0.117963</td>\n",
       "      <td>0.585024</td>\n",
       "      <td>0.999667</td>\n",
       "      <td>6732</td>\n",
       "    </tr>\n",
       "    <tr>\n",
       "      <th>2051</th>\n",
       "      <td>-0.549296</td>\n",
       "      <td>-0.500409</td>\n",
       "      <td>1.085331</td>\n",
       "      <td>6732</td>\n",
       "    </tr>\n",
       "    <tr>\n",
       "      <th>2052</th>\n",
       "      <td>-0.699862</td>\n",
       "      <td>-0.383130</td>\n",
       "      <td>1.035559</td>\n",
       "      <td>6732</td>\n",
       "    </tr>\n",
       "    <tr>\n",
       "      <th>2053</th>\n",
       "      <td>-0.649307</td>\n",
       "      <td>0.424054</td>\n",
       "      <td>0.937445</td>\n",
       "      <td>6732</td>\n",
       "    </tr>\n",
       "    <tr>\n",
       "      <th>2054</th>\n",
       "      <td>-0.814351</td>\n",
       "      <td>0.776012</td>\n",
       "      <td>1.076040</td>\n",
       "      <td>6732</td>\n",
       "    </tr>\n",
       "    <tr>\n",
       "      <th>2055</th>\n",
       "      <td>-0.891222</td>\n",
       "      <td>-0.529673</td>\n",
       "      <td>1.085499</td>\n",
       "      <td>6732</td>\n",
       "    </tr>\n",
       "    <tr>\n",
       "      <th>2056</th>\n",
       "      <td>-1.068200</td>\n",
       "      <td>0.784142</td>\n",
       "      <td>1.023505</td>\n",
       "      <td>6732</td>\n",
       "    </tr>\n",
       "    <tr>\n",
       "      <th>2057</th>\n",
       "      <td>-0.633498</td>\n",
       "      <td>0.793891</td>\n",
       "      <td>0.570317</td>\n",
       "      <td>6732</td>\n",
       "    </tr>\n",
       "    <tr>\n",
       "      <th>2058</th>\n",
       "      <td>-0.331367</td>\n",
       "      <td>0.778787</td>\n",
       "      <td>0.090869</td>\n",
       "      <td>6732</td>\n",
       "    </tr>\n",
       "  </tbody>\n",
       "</table>\n",
       "</div>"
      ],
      "text/plain": [
       "             x         y         z  time\n",
       "2049  0.046333  0.563902  0.833833  6732\n",
       "2050 -0.117963  0.585024  0.999667  6732\n",
       "2051 -0.549296 -0.500409  1.085331  6732\n",
       "2052 -0.699862 -0.383130  1.035559  6732\n",
       "2053 -0.649307  0.424054  0.937445  6732\n",
       "2054 -0.814351  0.776012  1.076040  6732\n",
       "2055 -0.891222 -0.529673  1.085499  6732\n",
       "2056 -1.068200  0.784142  1.023505  6732\n",
       "2057 -0.633498  0.793891  0.570317  6732\n",
       "2058 -0.331367  0.778787  0.090869  6732"
      ]
     },
     "execution_count": 8,
     "metadata": {},
     "output_type": "execute_result"
    }
   ],
   "source": [
    "data[data['time'] == 6732]  "
   ]
  },
  {
   "cell_type": "code",
   "execution_count": 88,
   "metadata": {},
   "outputs": [
    {
     "data": {
      "image/png": "[encoded data removed]",
      "text/plain": [
       "<Figure size 1152x864 with 1 Axes>"
      ]
     },
     "metadata": {},
     "output_type": "display_data"
    }
   ],
   "source": [
    "# find how active fireflies are over time\n",
    "\n",
    "fig, ax = plt.subplots(figsize=(16, 12))\n",
    "\n",
    "ax = sns.lineplot(padded_activity_counts.index[:10000], padded_activity_counts[:10000])\n",
    "ax.set(xlabel=\"timestep\", ylabel=\"activity density\")\n",
    "plt.show()"
   ]
  },
  {
   "cell_type": "code",
   "execution_count": 86,
   "metadata": {},
   "outputs": [
    {
     "data": {
      "text/plain": [
       "<matplotlib.axes._subplots.AxesSubplot at 0x1f8779fcf88>"
      ]
     },
     "execution_count": 86,
     "metadata": {},
     "output_type": "execute_result"
    },
    {
     "data": {
      "image/png": "[encoded data removed]",
      "text/plain": [
       "<Figure size 432x288 with 1 Axes>"
      ]
     },
     "metadata": {},
     "output_type": "display_data"
    }
   ],
   "source": [
    "# what does the distribution of gaps between the bursts of activity look like?\n",
    "\n",
    "gaps = []\n",
    "s = 0\n",
    "active = True\n",
    "\n",
    "for val in padded_activity_counts:\n",
    "    if val == 0:\n",
    "        s += 1\n",
    "        active = False\n",
    "    else:\n",
    "        if not active:\n",
    "            if s > 100:  # arbitrary cutoff to find large gaps\n",
    "                gaps.append(s)\n",
    "            s = 0\n",
    "            active = True\n",
    "            \n",
    "sns.distplot(gaps, bins=16, norm_hist=True, kde=False)"
   ]
  },
  {
   "cell_type": "code",
   "execution_count": 92,
   "metadata": {},
   "outputs": [
    {
     "data": {
      "text/plain": [
       "<matplotlib.axes._subplots.AxesSubplot at 0x1f87a128988>"
      ]
     },
     "execution_count": 92,
     "metadata": {},
     "output_type": "execute_result"
    },
    {
     "data": {
      "image/png": "[encoded data removed]",
      "text/plain": [
       "<Figure size 432x288 with 1 Axes>"
      ]
     },
     "metadata": {},
     "output_type": "display_data"
    }
   ],
   "source": [
    "gaps = []\n",
    "s = 0\n",
    "active = True\n",
    "\n",
    "for val in padded_activity_counts:\n",
    "    if val == 0:\n",
    "        s += 1\n",
    "        active = False\n",
    "    else:\n",
    "        if not active:\n",
    "            if s <= 100:  # arbitrary cutoff to find small gaps\n",
    "                gaps.append(s)\n",
    "            s = 0\n",
    "            active = True\n",
    "            \n",
    "sns.distplot(gaps, bins=16, norm_hist=True, kde=False)"
   ]
  },
  {
   "cell_type": "code",
   "execution_count": null,
   "metadata": {},
   "outputs": [],
   "source": []
  }
 ],
 "metadata": {
  "kernelspec": {
   "display_name": "Python 3",
   "language": "python",
   "name": "python3"
  },
  "language_info": {
   "codemirror_mode": {
    "name": "ipython",
    "version": 3
   },
   "file_extension": ".py",
   "mimetype": "text/x-python",
   "name": "python",
   "nbconvert_exporter": "python",
   "pygments_lexer": "ipython3",
   "version": "3.7.6"
  }
 },
 "nbformat": 4,
 "nbformat_minor": 4
}
